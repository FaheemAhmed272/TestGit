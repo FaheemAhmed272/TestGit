{
 "cells": [
  {
   "cell_type": "code",
   "execution_count": 1,
   "metadata": {},
   "outputs": [
    {
     "name": "stdout",
     "output_type": "stream",
     "text": [
      "Enter a Number : 4\n",
      "Enter  an other Number : 545\n",
      "Enter operation eg (-,+,/,*,**): -\n",
      "Subtraction of  4.0  and  545.0  is  -541.0\n"
     ]
    }
   ],
   "source": [
    "# Assignment Qno#01\n",
    "No1 = float(input('Enter a Number : '))\n",
    "No2 = float(input('Enter  an other Number : '))\n",
    "operator = input('Enter operation eg (-,+,/,*,**): ')\n",
    "\n",
    "if (operator == '-'):\n",
    "    result = No1 - No2\n",
    "    print(\"Subtraction of \",No1,\" and \",No2,\" is \",result)\n",
    "elif(operator == '+'):\n",
    "    result = No1 + No2\n",
    "    print(\"Addition of \",No1,\" and \",No2,\" is \",result)\n",
    "elif(operator == '/'):\n",
    "    result = No1/No2\n",
    "    print(\"Division of \",No1,\" and \",No2,\" is \",result)\n",
    "elif(operator == '*'):\n",
    "    result = No1* No2\n",
    "    print(\"Multiplication of \",No1,\" and \",No2,\" is \",result)\n",
    "elif(operator == '**'):\n",
    "    result = No1 ** No2\n",
    "    print(No1,\" power \",No2,\" is: \",result)\n",
    "else:\n",
    "    print('Enter correct operator')"
   ]
  },
  {
   "cell_type": "code",
   "execution_count": 9,
   "metadata": {},
   "outputs": [
    {
     "name": "stdout",
     "output_type": "stream",
     "text": [
      "Enter A Number: 2\n",
      "The Number is Even\n"
     ]
    }
   ],
   "source": [
    "\n",
    "    #Get Even Odd\n",
    "No1 = int(input(\"Enter A Number: \"))\n",
    "if No1%2 ==0:\n",
    "        print(\"The Number is Even\")\n",
    "else:\n",
    "        print(\"The Number is Odd\")"
   ]
  },
  {
   "cell_type": "code",
   "execution_count": 10,
   "metadata": {},
   "outputs": [
    {
     "name": "stdout",
     "output_type": "stream",
     "text": [
      "The Length of Given Array is:  6\n"
     ]
    }
   ],
   "source": [
    "\n",
    "# Qno 3\n",
    "    #Length of  Array\n",
    "Arr = (\"asad\",\"Nsaeer\",12,0.43,'A',False)\n",
    "print(\"The Length of Given Array is: \",len(Arr))"
   ]
  },
  {
   "cell_type": "code",
   "execution_count": 11,
   "metadata": {},
   "outputs": [
    {
     "name": "stdout",
     "output_type": "stream",
     "text": [
      "The Largest value in Given Array is:  12.001\n"
     ]
    }
   ],
   "source": [
    "    #Largest number in Array\n",
    "Arr = (12,0.43,False,12.001,11.99)\n",
    "print(\"The Largest value in Given Array is: \",max(Arr))"
   ]
  },
  {
   "cell_type": "code",
   "execution_count": 12,
   "metadata": {},
   "outputs": [
    {
     "name": "stdout",
     "output_type": "stream",
     "text": [
      "The Sum of all elements in the given list:  176.124\n"
     ]
    }
   ],
   "source": [
    "\n",
    "# Qno 5\n",
    "    #Sum of List\n",
    "Arr = [34,.034,97.09,45]\n",
    "print(\"The Sum of all elements in the given list: \",sum(Arr))"
   ]
  },
  {
   "cell_type": "code",
   "execution_count": 13,
   "metadata": {},
   "outputs": [
    {
     "name": "stdout",
     "output_type": "stream",
     "text": [
      "Elements less than 5 are:  [1, 1, 2, 3, 4]\n"
     ]
    }
   ],
   "source": [
    "# Qno 6\n",
    "    #Less than 5\n",
    "Arr = [1,1,2,3,4,5,6,7,8,0]\n",
    "print(\"Elements less than 5 are: \",Arr[:5])"
   ]
  },
  {
   "cell_type": "code",
   "execution_count": null,
   "metadata": {},
   "outputs": [],
   "source": []
  }
 ],
 "metadata": {
  "kernelspec": {
   "display_name": "Python 3",
   "language": "python",
   "name": "python3"
  },
  "language_info": {
   "codemirror_mode": {
    "name": "ipython",
    "version": 3
   },
   "file_extension": ".py",
   "mimetype": "text/x-python",
   "name": "python",
   "nbconvert_exporter": "python",
   "pygments_lexer": "ipython3",
   "version": "3.7.3"
  }
 },
 "nbformat": 4,
 "nbformat_minor": 2
}
